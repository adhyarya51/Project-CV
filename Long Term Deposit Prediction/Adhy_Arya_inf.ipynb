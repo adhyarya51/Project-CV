{
 "cells": [
  {
   "cell_type": "code",
   "execution_count": 1,
   "metadata": {},
   "outputs": [],
   "source": [
    "# import library \n",
    "import pandas as pd\n",
    "import pickle"
   ]
  },
  {
   "cell_type": "code",
   "execution_count": 2,
   "metadata": {},
   "outputs": [],
   "source": [
    "#load the files!\n",
    "with open('model_Cat.pkl', 'rb') as file_1 : \n",
    "    model_Cat = pickle.load(file_1)\n",
    "    # pickle.dump(model_lin,file_1)\n",
    "    \n",
    "with open('cat_terbaik.pkl', 'rb') as file_2 : \n",
    "    cat_terbaik = pickle.load(file_2)\n",
    "    # pickle.dump(model_lin,file_2)"
   ]
  },
  {
   "cell_type": "code",
   "execution_count": 3,
   "metadata": {},
   "outputs": [
    {
     "data": {
      "text/html": [
       "<div>\n",
       "<style scoped>\n",
       "    .dataframe tbody tr th:only-of-type {\n",
       "        vertical-align: middle;\n",
       "    }\n",
       "\n",
       "    .dataframe tbody tr th {\n",
       "        vertical-align: top;\n",
       "    }\n",
       "\n",
       "    .dataframe thead th {\n",
       "        text-align: right;\n",
       "    }\n",
       "</style>\n",
       "<table border=\"1\" class=\"dataframe\">\n",
       "  <thead>\n",
       "    <tr style=\"text-align: right;\">\n",
       "      <th></th>\n",
       "      <th>age</th>\n",
       "      <th>job</th>\n",
       "      <th>marital</th>\n",
       "      <th>education</th>\n",
       "      <th>default</th>\n",
       "      <th>balance</th>\n",
       "      <th>housing</th>\n",
       "      <th>loan</th>\n",
       "      <th>contact</th>\n",
       "      <th>day</th>\n",
       "      <th>month</th>\n",
       "      <th>duration</th>\n",
       "      <th>campaign</th>\n",
       "      <th>pdays</th>\n",
       "      <th>previous</th>\n",
       "      <th>poutcome</th>\n",
       "    </tr>\n",
       "  </thead>\n",
       "  <tbody>\n",
       "    <tr>\n",
       "      <th>0</th>\n",
       "      <td>23</td>\n",
       "      <td>management</td>\n",
       "      <td>single</td>\n",
       "      <td>secondary</td>\n",
       "      <td>yes</td>\n",
       "      <td>44500</td>\n",
       "      <td>yes</td>\n",
       "      <td>no</td>\n",
       "      <td>cellular</td>\n",
       "      <td>21</td>\n",
       "      <td>mar</td>\n",
       "      <td>69</td>\n",
       "      <td>4</td>\n",
       "      <td>123</td>\n",
       "      <td>0</td>\n",
       "      <td>success</td>\n",
       "    </tr>\n",
       "  </tbody>\n",
       "</table>\n",
       "</div>"
      ],
      "text/plain": [
       "   age         job marital  education default  balance housing loan   contact  \\\n",
       "0   23  management  single  secondary     yes    44500     yes   no  cellular   \n",
       "\n",
       "   day month  duration  campaign  pdays  previous poutcome  \n",
       "0   21   mar        69         4    123         0  success  "
      ]
     },
     "execution_count": 3,
     "metadata": {},
     "output_type": "execute_result"
    }
   ],
   "source": [
    "# create data interference\n",
    "\n",
    "df_inf={\n",
    "        'age' : 23,\n",
    "        'job' : 'management',\n",
    "        'marital' : 'single',\n",
    "        'education' : 'secondary',\n",
    "        'default' : 'yes',\n",
    "        'balance' : 44500,\n",
    "        'housing' : 'yes',\n",
    "        'loan' : 'no',\n",
    "        'contact' : 'cellular',\n",
    "        'day': 21,\n",
    "        'month' : 'mar',\n",
    "        'duration' : 69,\n",
    "        'campaign' : 4,\n",
    "        'pdays' : 123,\n",
    "        'previous' : 0,\n",
    "        'poutcome': 'success',\n",
    "        }\n",
    "df_inf = pd.DataFrame([df_inf])\n",
    "df_inf"
   ]
  },
  {
   "cell_type": "code",
   "execution_count": 4,
   "metadata": {},
   "outputs": [
    {
     "name": "stdout",
     "output_type": "stream",
     "text": [
      "deposit: ['yes']\n"
     ]
    }
   ],
   "source": [
    "# predict using model CatBoosterClasiffication sebelum dituning\n",
    "y_pred_inf_model_cat = model_Cat.predict(df_inf)\n",
    "\n",
    "print('deposit:',(y_pred_inf_model_cat)) #sebelum dibulatkan"
   ]
  },
  {
   "cell_type": "code",
   "execution_count": 5,
   "metadata": {},
   "outputs": [
    {
     "name": "stdout",
     "output_type": "stream",
     "text": [
      "deposit: ['no']\n"
     ]
    }
   ],
   "source": [
    "# predict using CatBoosterClassiffication setelah dituning \n",
    "y_pred_inf_terbaik = cat_terbaik.predict(df_inf)\n",
    "\n",
    "print('deposit:',(y_pred_inf_terbaik)) #sebelum dibulatkan"
   ]
  },
  {
   "cell_type": "code",
   "execution_count": 6,
   "metadata": {},
   "outputs": [
    {
     "name": "stdout",
     "output_type": "stream",
     "text": [
      "Hasil prediksi calon nasabah akankah melakukan deposit ?:\n",
      "\n",
      "Tidak mengikuti program \n"
     ]
    }
   ],
   "source": [
    "print(f\"Hasil prediksi calon nasabah akankah melakukan deposit ?:\", end=\"\\n\\n\")\n",
    "for _ in y_pred_inf_terbaik:\n",
    "    match _:\n",
    "        case 'no':\n",
    "            print(\"Tidak mengikuti program \")\n",
    "        case 'yes':\n",
    "            print(\"mengikuti program\")"
   ]
  }
 ],
 "metadata": {
  "kernelspec": {
   "display_name": "base",
   "language": "python",
   "name": "python3"
  },
  "language_info": {
   "codemirror_mode": {
    "name": "ipython",
    "version": 3
   },
   "file_extension": ".py",
   "mimetype": "text/x-python",
   "name": "python",
   "nbconvert_exporter": "python",
   "pygments_lexer": "ipython3",
   "version": "3.11.7"
  }
 },
 "nbformat": 4,
 "nbformat_minor": 2
}
