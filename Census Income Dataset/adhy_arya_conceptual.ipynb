{
 "cells": [
  {
   "cell_type": "markdown",
   "metadata": {},
   "source": [
    "## Conceptual Problems"
   ]
  },
  {
   "cell_type": "markdown",
   "metadata": {},
   "source": [
    "### 1. Jelaskan apa yang dimaksud dengan NoSQL menggunakanan pemahaman yang anda ketahui ! "
   ]
  },
  {
   "cell_type": "markdown",
   "metadata": {
    "vscode": {
     "languageId": "plaintext"
    }
   },
   "source": [
    "NoSQL databases provide a mechanism for automated querying of semi-structured data. They can efficiently handle data stored in formats such as CSV and JSON. NoSQL databases utilize various data models, including document, key-value, wide-column, and graph formats. They excel in scalability, fast query performance, and ease of use for developers."
   ]
  },
  {
   "cell_type": "markdown",
   "metadata": {},
   "source": [
    "### 2. Jelaskan kapan harus menggunakan NoSQL selain ElasticSearch beserta keunggulan tools/platform tersebut ! "
   ]
  },
  {
   "cell_type": "markdown",
   "metadata": {},
   "source": [
    "NoSQL databases are ideal for fast-paced development with frequent data updates, handling unstructured or semi-structured data, managing large data volumes, and scaling out architectures. Elasticsearch, a popular NoSQL option, offers support for geospatial data, a rich ecosystem of plugins, and is commonly used for logging, web search, and monitoring."
   ]
  },
  {
   "cell_type": "markdown",
   "metadata": {},
   "source": [
    "### 3. Sebutkan contoh 2 tools/platform NoSQL selain ElasticSearch beserta keunggulan tools/platform tersebut ! "
   ]
  },
  {
   "cell_type": "markdown",
   "metadata": {},
   "source": [
    "MongoDB is a document-oriented NoSQL database platform that stores data in JSON documents. It excels in handling fast-paced, complex data scenarios and is particularly useful for applications with evolving schemas. MongoDB is commonly utilized in web applications, content management systems, and mobile app backends.\n",
    "\n",
    "Redis is an open-source, in-memory data structure store renowned for its performance, versatility, and simplicity. It serves as a database, cache, and message broker, primarily storing data in memory for ultra-fast read and write operations. Redis supports various data structures and offers clustering capabilities. It's commonly used as a caching layer for speeding up access to data, real-time analytics, and job queues."
   ]
  },
  {
   "cell_type": "markdown",
   "metadata": {},
   "source": [
    "### 4. Jelaskan apa yang anda ketahui dari airflow menggunakan pemahaman dan bahasa anda sendiri ! "
   ]
  },
  {
   "cell_type": "markdown",
   "metadata": {},
   "source": [
    "Airflow is an open-source platform designed for developing, scheduling, and monitoring batch workflows. Leveraging Python, Airflow enables the creation of workflow connections with virtually any technology. Its web interface simplifies the management of workflow states, making it a versatile tool deployable across various setups, from a single process on a PC or laptop to distributed setups capable of handling the most complex workflows.\n",
    "\n",
    "At its core, Airflow utilizes Directed Acyclic Graphs (DAGs) to organize and automate tasks within workflows. DAGs facilitate the fetching, cleaning, organizing, and transferring of data, streamlining the entire process. This framework offers numerous benefits, including scalability, reliability, and the automation of data cleaning tasks.\n",
    "\n",
    "For example, imagine a data pipeline where raw data needs to be fetched from multiple sources, cleaned, transformed, and loaded into a database. With Airflow, a DAG could be constructed to orchestrate each step of this process automatically, ensuring data integrity and efficiency throughout."
   ]
  },
  {
   "cell_type": "markdown",
   "metadata": {},
   "source": [
    "### 5 Jelaskan apa yang anda ketahui dari Great Expectations menggunakan pemahaman dan bahasa anda sendiri ! "
   ]
  },
  {
   "cell_type": "markdown",
   "metadata": {},
   "source": [
    "Great Expectations is a Python library designed to streamline data management, validation, and expectation setting processes. It offers a framework that allows users to efficiently validate columns and data, eliminating the need for manual inspection of each unique value within a dataset. By automating these tasks, researchers can expedite their analysis, ensuring data reliability and accuracy without exhaustive manual checks.\n",
    "\n",
    "This powerful tool empowers organizations to confidently rely on their data for decision-making, as it provides a robust mechanism for monitoring data quality. With Great Expectations, businesses can enhance their data workflows, gaining deeper insights and achieving better outcomes.\n",
    "\n",
    "In summary, Great Expectations enriches data quality workflows, facilitating faster analysis and enabling organizations to make informed decisions based on accurate and reliable data."
   ]
  },
  {
   "cell_type": "markdown",
   "metadata": {},
   "source": [
    "### 6. Jelaskan apa yang anda ketahui dari Batch Processing menggunakan pemahaman dan bahasa anda sendiri (definisi, contoh kasus kasus penggunaan, tools, dll )!"
   ]
  },
  {
   "cell_type": "markdown",
   "metadata": {},
   "source": [
    "Batch processing is a method used when data can be collected over time and processed periodically, as seen in data warehousing, data analytics, and report analysis. It allows for the efficient organization and handling of large volumes of data without overwhelming systems or requiring constant human intervention. Batch processing optimizes resource utilization by scheduling tasks during off-hours, thereby reducing system load.\n",
    "\n",
    "An example of batch processing is in financial transaction processing, where a large volume of transactions, including deposits, withdrawals, and transfers, needs to be processed daily. Tools like Airflow can be utilized to efficiently handle these data transactions. The workflow involves collecting data from various sources and centralizing it for processing.\n",
    "\n",
    "Overall, batch processing is a valuable approach for managing and analyzing large datasets efficiently and systematically."
   ]
  }
 ],
 "metadata": {
  "language_info": {
   "name": "python"
  }
 },
 "nbformat": 4,
 "nbformat_minor": 2
}
