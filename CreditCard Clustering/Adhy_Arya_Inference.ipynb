{
 "cells": [
  {
   "cell_type": "code",
   "execution_count": 7,
   "metadata": {},
   "outputs": [],
   "source": [
    "# import library \n",
    "import pandas as pd\n",
    "import pickle\n"
   ]
  },
  {
   "cell_type": "code",
   "execution_count": 8,
   "metadata": {},
   "outputs": [],
   "source": [
    "# load the files ! \n",
    "with open('model_scaler.pkl', 'rb') as file_1 : # rb = read binary\n",
    "    model_scaler = pickle.load(file_1)\n",
    "    \n",
    "with open('model_pca.pkl', 'rb') as file_2 : # rb = read binary\n",
    "    model_pca = pickle.load(file_2)\n",
    "    \n",
    "with open('model_km.pkl', 'rb') as file_3 : # rb = read binary\n",
    "    model_km = pickle.load(file_3)\n"
   ]
  },
  {
   "cell_type": "code",
   "execution_count": 9,
   "metadata": {},
   "outputs": [
    {
     "data": {
      "text/html": [
       "<div>\n",
       "<style scoped>\n",
       "    .dataframe tbody tr th:only-of-type {\n",
       "        vertical-align: middle;\n",
       "    }\n",
       "\n",
       "    .dataframe tbody tr th {\n",
       "        vertical-align: top;\n",
       "    }\n",
       "\n",
       "    .dataframe thead th {\n",
       "        text-align: right;\n",
       "    }\n",
       "</style>\n",
       "<table border=\"1\" class=\"dataframe\">\n",
       "  <thead>\n",
       "    <tr style=\"text-align: right;\">\n",
       "      <th></th>\n",
       "      <th>BALANCE</th>\n",
       "      <th>BALANCE_FREQUENCY</th>\n",
       "      <th>PURCHASES</th>\n",
       "      <th>ONEOFF_PURCHASES</th>\n",
       "      <th>INSTALLMENTS_PURCHASES</th>\n",
       "      <th>CASH_ADVANCE</th>\n",
       "      <th>PURCHASES_FREQUENCY</th>\n",
       "      <th>ONEOFF_PURCHASES_FREQUENCY</th>\n",
       "      <th>PURCHASES_INSTALLMENTS_FREQUENCY</th>\n",
       "      <th>CASH_ADVANCE_FREQUENCY</th>\n",
       "      <th>CASH_ADVANCE_TRX</th>\n",
       "      <th>PURCHASES_TRX</th>\n",
       "      <th>CREDIT_LIMIT</th>\n",
       "      <th>PAYMENTS</th>\n",
       "      <th>MINIMUM_PAYMENTS</th>\n",
       "      <th>PRC_FULL_PAYMENT</th>\n",
       "      <th>TENURE</th>\n",
       "    </tr>\n",
       "  </thead>\n",
       "  <tbody>\n",
       "    <tr>\n",
       "      <th>0</th>\n",
       "      <td>892.43</td>\n",
       "      <td>0.8</td>\n",
       "      <td>567</td>\n",
       "      <td>53994</td>\n",
       "      <td>87</td>\n",
       "      <td>11334</td>\n",
       "      <td>0.9</td>\n",
       "      <td>0.2</td>\n",
       "      <td>0.78</td>\n",
       "      <td>0.23</td>\n",
       "      <td>4</td>\n",
       "      <td>11</td>\n",
       "      <td>30000.0</td>\n",
       "      <td>11898.456</td>\n",
       "      <td>975.98</td>\n",
       "      <td>1</td>\n",
       "      <td>8</td>\n",
       "    </tr>\n",
       "  </tbody>\n",
       "</table>\n",
       "</div>"
      ],
      "text/plain": [
       "   BALANCE  BALANCE_FREQUENCY  PURCHASES  ONEOFF_PURCHASES  \\\n",
       "0   892.43                0.8        567             53994   \n",
       "\n",
       "   INSTALLMENTS_PURCHASES  CASH_ADVANCE  PURCHASES_FREQUENCY  \\\n",
       "0                      87         11334                  0.9   \n",
       "\n",
       "   ONEOFF_PURCHASES_FREQUENCY  PURCHASES_INSTALLMENTS_FREQUENCY  \\\n",
       "0                         0.2                              0.78   \n",
       "\n",
       "   CASH_ADVANCE_FREQUENCY  CASH_ADVANCE_TRX  PURCHASES_TRX  CREDIT_LIMIT  \\\n",
       "0                    0.23                 4             11       30000.0   \n",
       "\n",
       "    PAYMENTS  MINIMUM_PAYMENTS  PRC_FULL_PAYMENT  TENURE  \n",
       "0  11898.456            975.98                 1       8  "
      ]
     },
     "execution_count": 9,
     "metadata": {},
     "output_type": "execute_result"
    }
   ],
   "source": [
    "# create data interference\n",
    "\n",
    "df_inf={\n",
    "        'BALANCE' : 892.43,\n",
    "        'BALANCE_FREQUENCY' : 0.8,\n",
    "        'PURCHASES' : 567,\n",
    "        'ONEOFF_PURCHASES' : 53994,\n",
    "        'INSTALLMENTS_PURCHASES' : 87,\n",
    "        'CASH_ADVANCE' : 11334,\n",
    "        'PURCHASES_FREQUENCY' : 0.9,\n",
    "        'ONEOFF_PURCHASES_FREQUENCY' : 0.2,\n",
    "        'PURCHASES_INSTALLMENTS_FREQUENCY' : 0.78,\n",
    "        'CASH_ADVANCE_FREQUENCY': 0.23,\n",
    "        'CASH_ADVANCE_TRX' : 4,\n",
    "        'PURCHASES_TRX' : 11,\n",
    "        'CREDIT_LIMIT' : 30000.000,\n",
    "        'PAYMENTS' : 11898.456,\n",
    "        'MINIMUM_PAYMENTS' : 975.98,\n",
    "        'PRC_FULL_PAYMENT': 1,\n",
    "        'TENURE' : 8,\n",
    "        }\n",
    "df_inf = pd.DataFrame([df_inf])\n",
    "df_inf"
   ]
  },
  {
   "cell_type": "markdown",
   "metadata": {},
   "source": [
    "### Scaling"
   ]
  },
  {
   "cell_type": "code",
   "execution_count": 10,
   "metadata": {},
   "outputs": [],
   "source": [
    "# melakukan scaling data\n",
    "df_inf_scaled = model_scaler.transform(df_inf)"
   ]
  },
  {
   "cell_type": "markdown",
   "metadata": {},
   "source": [
    "### PCA"
   ]
  },
  {
   "cell_type": "code",
   "execution_count": 11,
   "metadata": {},
   "outputs": [
    {
     "name": "stderr",
     "output_type": "stream",
     "text": [
      "c:\\Users\\adhy arya\\anaconda3\\Lib\\site-packages\\sklearn\\base.py:493: UserWarning: X does not have valid feature names, but PCA was fitted with feature names\n",
      "  warnings.warn(\n"
     ]
    }
   ],
   "source": [
    "# menggunakan model PCA\n",
    "df_inf_pca = model_pca.transform(df_inf_scaled)"
   ]
  },
  {
   "cell_type": "markdown",
   "metadata": {},
   "source": [
    "### Predik KM"
   ]
  },
  {
   "cell_type": "code",
   "execution_count": 12,
   "metadata": {},
   "outputs": [
    {
     "name": "stdout",
     "output_type": "stream",
     "text": [
      "Rating : [3]\n"
     ]
    }
   ],
   "source": [
    "# prediksi mengggunakan model Kmeans\n",
    "df_prediksi = model_km.predict(df_inf_pca)\n",
    "\n",
    "print('Rating :', (df_prediksi))"
   ]
  }
 ],
 "metadata": {
  "kernelspec": {
   "display_name": "base",
   "language": "python",
   "name": "python3"
  },
  "language_info": {
   "codemirror_mode": {
    "name": "ipython",
    "version": 3
   },
   "file_extension": ".py",
   "mimetype": "text/x-python",
   "name": "python",
   "nbconvert_exporter": "python",
   "pygments_lexer": "ipython3",
   "version": "3.11.7"
  }
 },
 "nbformat": 4,
 "nbformat_minor": 2
}
